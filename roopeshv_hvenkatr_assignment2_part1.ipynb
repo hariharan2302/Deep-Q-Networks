{
 "cells": [
  {
   "cell_type": "markdown",
   "id": "9c0d943c",
   "metadata": {},
   "source": [
    "## <center>CSE 546: Reinforcement Learning</center>\n",
    "### <center>Prof. Alina Vereshchaka</center>\n",
    "<!-- ### <center>Fall 2022</center> -->\n",
    "\n",
    "Welcome to the Assignment 2, Part 1: Introduction to Deep Reinforcement Learning and Neural Networks! The goal of this assignment is to make you comfortable with the application of different Neural Network structures depending on how the Reinforcement Learning environment is set up."
   ]
  },
  {
   "cell_type": "code",
   "execution_count": 2,
   "id": "c0fc19e1",
   "metadata": {},
   "outputs": [],
   "source": [
    "# Imports\n",
    "from environment import WumpusWorldEnvironment\n",
    "import torch\n",
    "import torch.nn as nn\n",
    "import torch.nn.functional as F\n",
    "import numpy as np"
   ]
  },
  {
   "cell_type": "markdown",
   "id": "87890afd",
   "metadata": {},
   "source": [
    "# Environment"
   ]
  },
  {
   "cell_type": "markdown",
   "id": "b9dc8362",
   "metadata": {},
   "source": [
    "We will be working with an implementation of the Wumpus World environment. The environment comes from the book \"Artificial Intelligence: A Modern Approach\" by Stuart J. Russell and Peter Norvig. \n",
    "\n",
    "### ENVIRONMENT DETAILS:\n",
    "\n",
    "The environment is a 6 x 6 grid world containing a total of 36 grid blocks. \n",
    "\n",
    "#### ENVIRONMENT OBJECTS:\n",
    "The environment consists of the following objects:\n",
    "\n",
    "1. **Agent** - The agent starts in the grid block at the bottom left corner whose co-ordinates are [0, 0]. The goal of our agent is to collect the Gold while avoiding the Wumpus and the pits. \n",
    "\n",
    "2. **Wumpus** - The monster which would eat the agent if they are in the same grid block.\n",
    "\n",
    "3. **Pit** - The agent must avoid falling into the pits. \n",
    "\n",
    "4. **Gold** - The agent must collect the Gold.\n",
    "\n",
    "5. **Breeze** - Breeze surrounds the Pits and warn the agent of a Pit in an adjacent grid block.\n",
    "\n",
    "6. **Stench** - Stench surrounds the Wumpus and warns the agent of the Wumpus in an adjacent grid block.\n",
    "\n",
    "#### ENVIRONMENT OBSERVATIONS:\n",
    "\n",
    "Our implementation of the environment provides you with four different types of observations:\n",
    "\n",
    "1. **Integer** - Integer in the range [0 - 35]. This represents the grid block the agent is in. E.g., if the agent is in the bottom left grid block (starting position) the observation would be 0, if the agent is in the grid block containing the Gold the observation would be 34, if the agent is in the top right grid block the observation would be 35.\n",
    "\n",
    "2. **Vector** - \n",
    "\n",
    "    **2.1.** A vector of length 2 representing the agent co-ordinates. The first entry represents the x co-ordinate and the second entry represets the y co-ordinate. E.g., if the agent is in the bottom left grid block (starting position) the observation would be [0, 0], if the agent is in the grid block containing the Gold the observation would be [4, 5], if the agent is in the top right grid block the observation would be [5, 5].\n",
    "    \n",
    "    **2.2.** A vector of length 36 representing the one-hot encoding of the integer observation (refer type 1 above). E.g., if the agent is in the bottom left grid block (starting position) the observation would be [1, 0, ..., 0, 0], if the agent is in the grid block containing the Gold the observation would be [0, 0, ..., 1, 0], if the agent is in the top right grid block the observation would be [0, 0, ..., 0, 1].\n",
    "\n",
    "\n",
    "3. **Image** - Image render of the environment returned as an NumPy array. The image size is 84 * 84 (same size used in the DQN paper). E.g., if the agent is in the bottom right grid block the observation is:\n",
    "\n",
    "    Observation: (84 * 84)\n",
    "\n",
    "     [[255 255 255 ... 255 255 255]\n",
    "\n",
    "     [255 255 255 ... 255 255 255]\n",
    "\n",
    "     [255 255 255 ... 255 255 255]\n",
    "\n",
    "     ...\n",
    "\n",
    "     [255 255 255 ... 255 255 255]\n",
    "\n",
    "     [255 255 255 ... 255 255 255]\n",
    "\n",
    "     [255 255 255 ... 255 255 255]]\n",
    "\n",
    "    Observation type: <class 'numpy.ndarray'>\n",
    "\n",
    "    Observation Shape: (84, 84)\n",
    "\n",
    "    Visually, it looks like:\n",
    "    <img src=\"./images/environment_render.png\" width=\"500\" height=\"500\">\n",
    "    \n",
    "\n",
    "4. **Float** - Float in the range [0 - $\\infty$] representing the time elapsed in seconds. \n",
    "\n",
    "#### ENVIRONMENT ACTIONS:\n",
    "\n",
    "Our implementation of the environment provides you with three different types of actions:\n",
    "\n",
    "1. **Discrete** - Integer in the range [0 - 3] representing the four actions possible in the environment as follows: 0 - Right 1 - Left 2 - Up 3 - Down.\n",
    "\n",
    "2. **Multi-Discrete** - Array of length four where each element takes binary values 0 or 1. Array elements represent if we take a particular action. Array element with index 0 corresponds to the right action, index 1 corresponds to the left action, index 2 corresponds to the up action, and index 3 corresponds to the down action. E.g., \n",
    "   action = [1, 0, 0, 0] would result in the agent moving right.\n",
    "   action = [1, 0, 1, 0] would result in the agent moving right and up.\n",
    "   action = [0, 1, 0, 1] would result in the agent moving left and down.\n",
    "\n",
    "3. **Continuous** - Float in the range [-1, 1] determining whether the agent will go left, right, up, or down as follows:\n",
    "\n",
    "    if -1 <= action <= -0.5:\n",
    "        Go Right.\n",
    "    elif -0.5 < action <= 0:\n",
    "        Go Left.\n",
    "    elif 0 < action <= 0.5:\n",
    "        Go Up.\n",
    "    elif 0.5 < action <= 1:\n",
    "        Go Down.\n",
    "        \n",
    "### YOUR TASK IS TO USE A NEURAL NETWORK TO WORK WITH ALL FOUR TYPES OF OBSERVATIONS AND ALL THREE TYPES OF  ACTIONS.\n",
    "### Note: You don't have to train your agent/neural network. You just have to build the neural network structure that takes the observation as input and produces the desired output with the initial weights.\n",
    "\n",
    "#### You can use libraries such as PyTorch/TensorFlow/Keras to build your neural networks.\n",
    "\n",
    "#### <span style=\"color:red\">You cannot use RL libraries that already provide the neural network to you such as Stable-baselines3, Keras-RL, TF agents, Ray RLLib etc.</span>"
   ]
  },
  {
   "cell_type": "markdown",
   "id": "a6deebbb",
   "metadata": {},
   "source": [
    "<img src=\"./images/wumpus_world_environment.jpg\" width=\"600\" height=\"600\">"
   ]
  },
  {
   "cell_type": "markdown",
   "id": "f2f11e24",
   "metadata": {},
   "source": [
    "# START COMPLETING YOUR ASSIGNMENT HERE"
   ]
  },
  {
   "cell_type": "markdown",
   "id": "729a8768",
   "metadata": {},
   "source": [
    "## Observation Type - Integer, Action Type - Discrete\n",
    "\n",
    "The part of the assignment requires you to create a sequential dense neural network with 1 hidden layer having 64 neurons and the output layer having 4 neurons. The input to the neural network is an integer (refer to environment observations type 1). The output of the neural network is an array represeting the Q-values from which you will choose an action (refer to environment actions type 1)."
   ]
  },
  {
   "cell_type": "markdown",
   "id": "c596cb95",
   "metadata": {},
   "source": [
    "The following figure shows the network structure you will have to use:\n",
    "\n",
    "<img src=\"./images/neural_network_structures/neural_network_1_64_4.png\">"
   ]
  },
  {
   "cell_type": "code",
   "execution_count": 10,
   "id": "7b1f4da4",
   "metadata": {},
   "outputs": [
    {
     "name": "stdout",
     "output_type": "stream",
     "text": [
      "observation in Tensor form : tensor([0.])\n",
      "Q-values : tensor([ 0.0106,  0.0630, -0.3424, -0.1164], grad_fn=<ViewBackward0>)\n"
     ]
    }
   ],
   "source": [
    "\"\"\"TO DO: Create a neural network, pass it the observation from the environment\n",
    "and get the predicted Q-values for the four actions. Print the observation and the Q-values.\"\"\"\n",
    "\n",
    "environment = WumpusWorldEnvironment(observation_type='integer', action_type='discrete')\n",
    "observation, info = environment.reset()\n",
    "\n",
    "# BEGIN_YOUR_CODE\n",
    "class Net(nn.Module):\n",
    "    def __init__(self):\n",
    "        super(Net, self).__init__()\n",
    "        self.fc1 = nn.Linear(1, 64)\n",
    "        self.fc2 = nn.Linear(64, 4)\n",
    "\n",
    "    def forward(self, x):\n",
    "        x = F.relu(self.fc1(x))\n",
    "        x = self.fc2(x)\n",
    "        return x\n",
    "\n",
    "net = Net()\n",
    "observation_tensor = torch.tensor([observation], dtype=torch.float32)\n",
    "print(\"observation in Tensor form : \"+str(observation_tensor))\n",
    "q_values = net(observation_tensor)\n",
    "print(\"Q-values : \"+str(q_values))\n",
    "\n",
    "# END_YOUR_CODE"
   ]
  },
  {
   "cell_type": "markdown",
   "id": "2bb8286a",
   "metadata": {},
   "source": []
  },
  {
   "cell_type": "markdown",
   "id": "b2b233bb",
   "metadata": {},
   "source": [
    "## Observation Type - Vector (2.1), Action Type - Discrete\n",
    "\n",
    "The part of the assignment requires you to create a sequential dense neural network with 1 hidden layer having 64 neurons and the output layer having 4 neurons. The input to the neural network is a vector of length 2 (refer to environment observations type 2.1). The output of the neural network is an array represeting the Q-values from which you will choose an action (refer to environment actions type 1)."
   ]
  },
  {
   "cell_type": "markdown",
   "id": "0e9c4873",
   "metadata": {},
   "source": [
    "The following figure shows the network structure you will have to use:\n",
    "\n",
    "<img src=\"./images/neural_network_structures/neural_network_2_64_4.png\">"
   ]
  },
  {
   "cell_type": "code",
   "execution_count": 11,
   "id": "10d985b5",
   "metadata": {},
   "outputs": [
    {
     "name": "stdout",
     "output_type": "stream",
     "text": [
      "observation : [0 0]\n",
      "Q-values : tensor([[ 0.0064, -0.0110,  0.1202,  0.1522]], grad_fn=<AddmmBackward0>)\n"
     ]
    }
   ],
   "source": [
    "\"\"\"TO DO: Create a neural network, pass it the observation from the environment\n",
    "and get the predicted Q-values for the four actions. Print the observation and the Q-values.\"\"\"\n",
    "\n",
    "environment = WumpusWorldEnvironment(observation_type='vector', action_type='discrete')\n",
    "observation, info = environment.reset()\n",
    "\n",
    "# BEGIN_YOUR_CODE\n",
    "\n",
    "class Net(nn.Module):\n",
    "    def __init__(self):\n",
    "        super(Net, self).__init__()\n",
    "        self.fc1 = nn.Linear(2, 64)\n",
    "        self.fc2 = nn.Linear(64, 4)\n",
    "\n",
    "    def forward(self, x):\n",
    "        x = F.relu(self.fc1(x))\n",
    "        x = self.fc2(x)\n",
    "        return x\n",
    "\n",
    "net = Net()\n",
    "print(\"observation : \"+str(observation))\n",
    "observation_tensor = torch.tensor([observation], dtype=torch.float32)\n",
    "q_values = net(observation_tensor)\n",
    "print(\"Q-values : \"+str(q_values))\n",
    "\n",
    "# END_YOUR_CODE"
   ]
  },
  {
   "cell_type": "markdown",
   "id": "a8957b9f",
   "metadata": {},
   "source": [
    "## Observation Type - Vector (2.2), Action Type - Discrete\n",
    "\n",
    "The part of the assignment requires you to create a sequential dense neural network with 1 hidden layer having 64 neurons and the output layer having 4 neurons. The input to the neural network is a vector of length 36 (refer to environment observations type 2.2). The output of the neural network is an array represeting the Q-values from which you will choose an action (refer to environment actions type 1).\n",
    "\n",
    "**HINT:** Use the integer observation and convert it to a one-hot encoded vector."
   ]
  },
  {
   "cell_type": "markdown",
   "id": "470cf5f8",
   "metadata": {},
   "source": [
    "The following figure shows the network structure you will have to use:\n",
    "\n",
    "<img src=\"./images/neural_network_structures/neural_network_36_64_4.png\">"
   ]
  },
  {
   "cell_type": "code",
   "execution_count": 12,
   "id": "ae05b09e",
   "metadata": {},
   "outputs": [
    {
     "name": "stdout",
     "output_type": "stream",
     "text": [
      "observation : tensor([1., 0., 0., 0., 0., 0., 0., 0., 0., 0., 0., 0., 0., 0., 0., 0., 0., 0.,\n",
      "        0., 0., 0., 0., 0., 0., 0., 0., 0., 0., 0., 0., 0., 0., 0., 0., 0., 0.])\n",
      "Q-values : tensor([ 0.0091, -0.0540,  0.1131, -0.0578], grad_fn=<ViewBackward0>)\n"
     ]
    }
   ],
   "source": [
    "\"\"\"TO DO: Create a neural network, pass it the observation from the environment\n",
    "and get the predicted Q-values for the four actions. Print the observation and the Q-values.\"\"\"\n",
    "\n",
    "environment = WumpusWorldEnvironment(observation_type='integer', action_type='discrete')\n",
    "observation, info = environment.reset()\n",
    "\n",
    "# BEGIN_YOUR_CODE\n",
    "class Net(nn.Module):\n",
    "    def __init__(self):\n",
    "        super(Net, self).__init__()\n",
    "        self.fc1 = nn.Linear(36, 64)\n",
    "        self.fc2 = nn.Linear(64, 4)\n",
    "\n",
    "    def forward(self, x):\n",
    "        x = F.relu(self.fc1(x))\n",
    "        x = self.fc2(x)\n",
    "        return x\n",
    "    \n",
    "zeros_tensor = torch.zeros(36)\n",
    "zeros_tensor[observation] = 1\n",
    "\n",
    "net = Net()\n",
    "print(\"observation : \"+str(zeros_tensor))\n",
    "# observation_tensor = torch.tensor([zeros_tensor], dtype=torch.float32)\n",
    "q_values = net(zeros_tensor)\n",
    "print(\"Q-values : \"+str(q_values))\n",
    "\n",
    "# END_YOUR_CODE"
   ]
  },
  {
   "cell_type": "markdown",
   "id": "ce19c97b",
   "metadata": {},
   "source": [
    "## Observation Type - Image, Action Type - Discrete\n",
    "\n",
    "The part of the assignment requires you to create a convolutional neural network with one convolutional layer having 128 filters of size 3 x 3, one hidden layer having 64 neurons, and the output layer having 4 neurons. The input to the neural network is an image of size 84 * 84 (refer to environment observations type 3). The output of the neural network is an array represeting the Q-values from which you will choose an action (refer to environment actions type 1)."
   ]
  },
  {
   "cell_type": "markdown",
   "id": "df3d739c",
   "metadata": {},
   "source": [
    "The following figure shows the network structure you will have to use:\n",
    "\n",
    "<img src=\"./images/neural_network_structures/convolutional_neural_network_84x84_128_64_4.png\">"
   ]
  },
  {
   "cell_type": "code",
   "execution_count": 5,
   "id": "2044da09",
   "metadata": {},
   "outputs": [
    {
     "name": "stdout",
     "output_type": "stream",
     "text": [
      "torch.Size([1, 84, 84])\n",
      "\n",
      "Q-values : tensor([-11.4338,  23.5070,   6.4277,   6.8270], grad_fn=<ViewBackward0>)\n"
     ]
    }
   ],
   "source": [
    "\"\"\"TO DO: Create a neural network, pass it the observation from the environment\n",
    "and get the predicted Q-values for the four actions. Print the observation and the Q-values.\"\"\"\n",
    "\n",
    "environment = WumpusWorldEnvironment(observation_type='image', action_type='discrete')\n",
    "observation, info = environment.reset()\n",
    "# print(\"observation : \"+str(observation))\n",
    "x_np = torch.from_numpy(observation).unsqueeze(0).float()\n",
    "\n",
    "# # BEGIN_YOUR_CODE\n",
    "class Net(nn.Module):\n",
    "    def __init__(self):\n",
    "        super(Net, self).__init__()\n",
    "        self.conv = nn.Conv2d(1, 128, 3)\n",
    "        self.fc2 = nn.Linear(128 * 82 * 82, 64)\n",
    "        self.fc3 = nn.Linear(64, 4)\n",
    "\n",
    "    def forward(self, x):\n",
    "        x = F.relu(self.conv(x))\n",
    "        x = x.flatten()\n",
    "        x = F.relu(self.fc2(x))\n",
    "        x = self.fc3(x)\n",
    "        return x\n",
    "        \n",
    "net = Net()\n",
    "print(x_np.shape)\n",
    "q_values = net(x_np)\n",
    "print(\"\\nQ-values : \"+str(q_values))\n",
    "\n",
    "# END_YOUR_CODE"
   ]
  },
  {
   "cell_type": "markdown",
   "id": "64be04fd",
   "metadata": {},
   "source": [
    "## Observation Type - Float, Action Type - Discrete\n",
    "\n",
    "The part of the assignment requires you to create a sequential dense neural network with 1 hidden layer having 256 neurons and the output layer having 4 neurons. The input to the neural network is a float (refer to environment observations type 4). The output of the neural network is an array represeting the Q-values from which you will choose an action (refer to environment actions type 1)."
   ]
  },
  {
   "cell_type": "markdown",
   "id": "b7ed49e0",
   "metadata": {},
   "source": [
    "The following figure shows the network structure you will have to use:\n",
    "\n",
    "<img src=\"./images/neural_network_structures/neural_network_1_64_4.png\">"
   ]
  },
  {
   "cell_type": "code",
   "execution_count": 14,
   "id": "ea0e4aa6",
   "metadata": {},
   "outputs": [
    {
     "name": "stdout",
     "output_type": "stream",
     "text": [
      "2.09808349609375e-05\n",
      "observation in Tensor form : tensor([2.0981e-05])\n",
      "Q-values : tensor([-0.0024, -0.2681, -0.3467, -0.0352], grad_fn=<ViewBackward0>)\n"
     ]
    }
   ],
   "source": [
    "\"\"\"TO DO: Create a neural network, pass it the observation from the environment\n",
    "and get the predicted Q-values for the four actions. Print the observation and the Q-values.\"\"\"\n",
    "\n",
    "environment = WumpusWorldEnvironment(observation_type='float', action_type='discrete')\n",
    "observation, info = environment.reset()\n",
    "print(observation)\n",
    "# BEGIN_YOUR_CODE\n",
    "class Net(nn.Module):\n",
    "    def __init__(self):\n",
    "        super(Net, self).__init__()\n",
    "        self.fc1 = nn.Linear(1, 64)\n",
    "        self.fc2 = nn.Linear(64, 4)\n",
    "\n",
    "    def forward(self, x):\n",
    "        x = F.relu(self.fc1(x))\n",
    "        x = self.fc2(x)\n",
    "        return x\n",
    "\n",
    "net = Net()\n",
    "observation_tensor = torch.tensor([observation], dtype=torch.float32)\n",
    "print(\"observation in Tensor form : \"+str(observation_tensor))\n",
    "q_values = net(observation_tensor)\n",
    "print(\"Q-values : \"+str(q_values))\n",
    "\n",
    "# END_YOUR_CODE"
   ]
  },
  {
   "cell_type": "markdown",
   "id": "27040465",
   "metadata": {},
   "source": [
    "## Observation Type - Vector (2.2), Action Type - Multi-Discrete\n",
    "\n",
    "The part of the assignment requires you to create a sequential dense neural network with 1 hidden layer having 64 neurons and the output layer having 4 neurons. The input to the neural network is a vector of length 36 (refer to environment observations type 2.2). The output of the neural network is an array representing the probability of choosing the actions. (If the value of the array element is >=0.5 you will perform the action.) (refer to environment actions type 2).\n",
    "\n",
    "**HINT:** Use the integer observation and convert it to a one-hot encoded vector."
   ]
  },
  {
   "cell_type": "markdown",
   "id": "8fe64de9",
   "metadata": {},
   "source": [
    "The following figure shows the network structure you will have to use:\n",
    "\n",
    "<img src=\"./images/neural_network_structures/neural_network_36_64_4_sigmoid.png\">"
   ]
  },
  {
   "cell_type": "code",
   "execution_count": 15,
   "id": "00ea3736",
   "metadata": {},
   "outputs": [
    {
     "name": "stdout",
     "output_type": "stream",
     "text": [
      "observation : tensor([1., 0., 0., 0., 0., 0., 0., 0., 0., 0., 0., 0., 0., 0., 0., 0., 0., 0.,\n",
      "        0., 0., 0., 0., 0., 0., 0., 0., 0., 0., 0., 0., 0., 0., 0., 0., 0., 0.])\n",
      "\n",
      "Q-values : tensor([0.5371, 0.4803, 0.5448, 0.5285], grad_fn=<SigmoidBackward0>)\n",
      "\n",
      "Multi discrete action set:tensor([1., 0., 1., 1.])\n",
      "\n",
      " Action chosen: Right\n",
      "\n",
      " No Action Chosen\n",
      "\n",
      " Action chosen: up\n",
      "\n",
      " Action chosen: Down\n"
     ]
    }
   ],
   "source": [
    "\"\"\"TO DO: Create a neural network, pass it the observation from the environment\n",
    "and get the predicted action probabilities for the four actions. Print the observation and the action probabilities.\"\"\"\n",
    "\n",
    "environment = WumpusWorldEnvironment(observation_type='integer', action_type='multi_discrete')\n",
    "observation, info = environment.reset()\n",
    "zeros_observation = torch.zeros(36)\n",
    "zeros_observation[observation] = 1\n",
    "print(\"observation : \"+str(zeros_observation))\n",
    "\n",
    "# BEGIN_YOUR_CODE\n",
    "class Net(nn.Module):\n",
    "    def __init__(self):\n",
    "        super(Net, self).__init__()\n",
    "        self.fc1 = nn.Linear(36, 64)\n",
    "        self.fc2 = nn.Linear(64, 4)\n",
    "\n",
    "    def forward(self, x):\n",
    "        x = F.relu(self.fc1(x))\n",
    "        x = F.sigmoid(self.fc2(x))\n",
    "        return x\n",
    "\n",
    "net = Net()\n",
    "# print(\"observation in Tensor form : \"+str(observation_tensor))\n",
    "q_values = net(zeros_observation)\n",
    "print(\"\\nQ-values : \"+str(q_values))\n",
    "\n",
    "action_q_values = torch.zeros(4)\n",
    "np_arr = q_values.detach().numpy()\n",
    "\n",
    "for i in range(4):\n",
    "    if np_arr[i]>=0.5:\n",
    "        action_q_values[i] = 1\n",
    "    else:\n",
    "        action_q_values[i] = 0\n",
    "        \n",
    "print(\"\\nMulti discrete action set:\"+str(action_q_values))\n",
    "\n",
    "# now we have done binary values updation with probability >= 0.5, below logic gives us what might be possible actions according to environment action type 2 i.e., MULTI- discrete\n",
    "for j in range(4):\n",
    "    if j==0:\n",
    "        if action_q_values[j] == 1:\n",
    "            print(\"\\n Action chosen: Right\")\n",
    "        else:\n",
    "            print(\"\\n No Action Chosen\")\n",
    "    elif j==1:\n",
    "        if action_q_values[j] == 1:\n",
    "            print(\"\\n Action chosen: Left\")\n",
    "        else:\n",
    "            print(\"\\n No Action Chosen\")\n",
    "    elif j==2:\n",
    "        if action_q_values[j] == 1:\n",
    "            print(\"\\n Action chosen: up\")\n",
    "        else:\n",
    "            print(\"\\n No Action Chosen\")\n",
    "    elif j==3:\n",
    "        if action_q_values[j] == 1:\n",
    "            print(\"\\n Action chosen: Down\")\n",
    "        else:\n",
    "            print(\"\\n No Action Chosen\")\n",
    "\n",
    "# END_YOUR_CODE"
   ]
  },
  {
   "cell_type": "markdown",
   "id": "082f05b0",
   "metadata": {},
   "source": [
    "## Observation Type - Vector (2.2), Action Type - Continuous\n",
    "\n",
    "The part of the assignment requires you to create a sequential dense neural network with 1 hidden layer having 64 neurons and the output layer having 1 neuron. The input to the neural network is a vector of length 36 (refer to environment observations type 2.2). The output of the neural network is an float in the range [-1, 1] determining the action which will be taken. (refer to environment actions type 3).\n",
    "\n",
    "**HINT:** Use the integer observation and convert it to a one-hot encoded vector and use the TanH activation function to get the output in the range [-1, 1]."
   ]
  },
  {
   "cell_type": "markdown",
   "id": "d8796988",
   "metadata": {},
   "source": [
    "The following figure shows the network structure you will have to use:\n",
    "\n",
    "<img src=\"./images/neural_network_structures/neural_network_36_64_1.png\">"
   ]
  },
  {
   "cell_type": "code",
   "execution_count": 16,
   "id": "b98555f1",
   "metadata": {},
   "outputs": [
    {
     "name": "stdout",
     "output_type": "stream",
     "text": [
      "observation : tensor([1., 0., 0., 0., 0., 0., 0., 0., 0., 0., 0., 0., 0., 0., 0., 0., 0., 0.,\n",
      "        0., 0., 0., 0., 0., 0., 0., 0., 0., 0., 0., 0., 0., 0., 0., 0., 0., 0.])\n",
      "\n",
      "Q-values : tensor([-0.0099], grad_fn=<TanhBackward0>)\n",
      "Go Left\n"
     ]
    }
   ],
   "source": [
    "\"\"\"TO DO: Create a neural network, pass it the observation from the environment\n",
    "and get the predicted action. Print the observation and the predicted action.\"\"\"\n",
    "\n",
    "environment = WumpusWorldEnvironment(observation_type='integer', action_type='continuous')\n",
    "observation, info = environment.reset()\n",
    "zeros_observation = torch.zeros(36)\n",
    "zeros_observation[observation] = 1\n",
    "print(\"observation : \"+str(zeros_observation))\n",
    "\n",
    "# BEGIN_YOUR_CODE\n",
    "class Net(nn.Module):\n",
    "    def __init__(self):\n",
    "        super(Net, self).__init__()\n",
    "        self.fc1 = nn.Linear(36, 64)\n",
    "        self.fc2 = nn.Linear(64, 1)\n",
    "\n",
    "    def forward(self, x):\n",
    "        x = F.relu(self.fc1(x))\n",
    "        x = F.tanh(self.fc2(x))\n",
    "        return x\n",
    "\n",
    "net = Net()\n",
    "# print(\"observation in Tensor form : \"+str(observation_tensor))\n",
    "q_values = net(zeros_observation)\n",
    "print(\"\\nQ-values : \"+str(q_values))\n",
    "\n",
    "# action_q_values = torch.zeros(4)\n",
    "# np_arr = q_values.detach().numpy()\n",
    "\n",
    "# for i in range(4):\n",
    "#     if np_arr[i]>=0.5:\n",
    "#         action_q_values[i] = 1\n",
    "#     else:\n",
    "#         action_q_values[i] = 0\n",
    "        \n",
    "# print(\"\\nMulti discrete action set:\"+str(action_q_values))\n",
    "q_value = q_values.detach().numpy()[0]\n",
    "if -1 <= q_value <= -0.5:\n",
    "    print(\"Go Right\")\n",
    "elif -0.5 <= q_value <= 0:\n",
    "    print(\"Go Left\")\n",
    "elif 0 <= q_value <= 0.5:\n",
    "    print(\"Go Up\")\n",
    "else:\n",
    "    print(\"Go Down\")\n",
    "\n",
    "# END_YOUR_CODE"
   ]
  }
 ],
 "metadata": {
  "kernelspec": {
   "display_name": "Python 3 (ipykernel)",
   "language": "python",
   "name": "python3"
  },
  "language_info": {
   "codemirror_mode": {
    "name": "ipython",
    "version": 3
   },
   "file_extension": ".py",
   "mimetype": "text/x-python",
   "name": "python",
   "nbconvert_exporter": "python",
   "pygments_lexer": "ipython3",
   "version": "3.11.5"
  }
 },
 "nbformat": 4,
 "nbformat_minor": 5
}
